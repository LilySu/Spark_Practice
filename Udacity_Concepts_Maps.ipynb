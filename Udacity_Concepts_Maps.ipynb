{
 "cells": [
  {
   "cell_type": "code",
   "execution_count": 5,
   "metadata": {},
   "outputs": [],
   "source": [
    "import findspark\n",
    "findspark.init('C:\\\\Spark\\\\spark-3.0.1-bin-hadoop2.7')\n",
    "\n",
    "import pyspark\n",
    "sc = pyspark.SparkContext(appName='maps_and_lazy_evaluation_example') # main entrypoint for spark functionality\n",
    "# connects cluster with application\n",
    "# With the SparkContext, you can input a dataset and parallelize the data across a cluster \n",
    "#(since you are currently using Spark in local mode on a single machine, technically the \n",
    "# dataset isn't distributed yet)."
   ]
  },
  {
   "cell_type": "code",
   "execution_count": 6,
   "metadata": {},
   "outputs": [],
   "source": [
    "log_of_songs = [\n",
    "    'Test',\n",
    "    'Despacito',\n",
    "    'No tears left to cry',\n",
    "    'Havana',\n",
    "    'In my feeligns',\n",
    "    'Nice for what',\n",
    "    'All the stars'\n",
    "]\n",
    "distributed_song_log = sc.parallelize(log_of_songs)\n",
    "\n",
    "def convert_songs_to_lowercase(song):\n",
    "    return song.lower()"
   ]
  },
  {
   "cell_type": "code",
   "execution_count": 8,
   "metadata": {},
   "outputs": [
    {
     "data": {
      "text/plain": [
       "'havana'"
      ]
     },
     "execution_count": 8,
     "metadata": {},
     "output_type": "execute_result"
    }
   ],
   "source": [
    "convert_songs_to_lowercase(\"Havana\")"
   ]
  },
  {
   "cell_type": "code",
   "execution_count": 12,
   "metadata": {},
   "outputs": [
    {
     "data": {
      "text/plain": [
       "['test',\n",
       " 'despacito',\n",
       " 'no tears left to cry',\n",
       " 'havana',\n",
       " 'in my feeligns',\n",
       " 'nice for what',\n",
       " 'all the stars']"
      ]
     },
     "execution_count": 12,
     "metadata": {},
     "output_type": "execute_result"
    }
   ],
   "source": [
    "distributed_song_log.map(convert_songs_to_lowercase).collect() # spark uses lazy evaluation\n",
    "# have not converted to lowercase yet\n",
    "# spark waits to last minute to streamline multiple functions"
   ]
  },
  {
   "cell_type": "code",
   "execution_count": 11,
   "metadata": {},
   "outputs": [
    {
     "data": {
      "text/plain": [
       "['Test',\n",
       " 'Despacito',\n",
       " 'No tears left to cry',\n",
       " 'Havana',\n",
       " 'In my feeligns',\n",
       " 'Nice for what',\n",
       " 'All the stars']"
      ]
     },
     "execution_count": 11,
     "metadata": {},
     "output_type": "execute_result"
    }
   ],
   "source": [
    "# collect gathers results from all machines in cluster back to notebook\n",
    "distributed_song_log.collect() # makes a copy of dataset but left original"
   ]
  },
  {
   "cell_type": "code",
   "execution_count": 13,
   "metadata": {},
   "outputs": [
    {
     "data": {
      "text/plain": [
       "['test',\n",
       " 'despacito',\n",
       " 'no tears left to cry',\n",
       " 'havana',\n",
       " 'in my feeligns',\n",
       " 'nice for what',\n",
       " 'all the stars']"
      ]
     },
     "execution_count": 13,
     "metadata": {},
     "output_type": "execute_result"
    }
   ],
   "source": [
    "#anonymous functions - don't require you to define new functions\n",
    "distributed_song_log.map(lambda song: song.lower()).collect() # input: output more explicit"
   ]
  },
  {
   "cell_type": "code",
   "execution_count": 14,
   "metadata": {},
   "outputs": [
    {
     "data": {
      "text/plain": [
       "['test',\n",
       " 'despacito',\n",
       " 'no tears left to cry',\n",
       " 'havana',\n",
       " 'in my feeligns',\n",
       " 'nice for what',\n",
       " 'all the stars']"
      ]
     },
     "execution_count": 14,
     "metadata": {},
     "output_type": "execute_result"
    }
   ],
   "source": [
    "distributed_song_log.map(lambda x: x.lower()).collect() # more concise"
   ]
  },
  {
   "cell_type": "code",
   "execution_count": null,
   "metadata": {},
   "outputs": [],
   "source": []
  }
 ],
 "metadata": {
  "kernelspec": {
   "display_name": "Python 3",
   "language": "python",
   "name": "python3"
  },
  "language_info": {
   "codemirror_mode": {
    "name": "ipython",
    "version": 3
   },
   "file_extension": ".py",
   "mimetype": "text/x-python",
   "name": "python",
   "nbconvert_exporter": "python",
   "pygments_lexer": "ipython3",
   "version": "3.7.4"
  }
 },
 "nbformat": 4,
 "nbformat_minor": 4
}
